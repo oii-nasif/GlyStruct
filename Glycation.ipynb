{
  "nbformat": 4,
  "nbformat_minor": 0,
  "metadata": {
    "colab": {
      "name": "Glycation",
      "provenance": [],
      "collapsed_sections": []
    },
    "kernelspec": {
      "name": "python3",
      "display_name": "Python 3"
    },
    "accelerator": "GPU"
  },
  "cells": [
    {
      "cell_type": "code",
      "metadata": {
        "id": "bq8j7On9TkKr"
      },
      "source": [
        "# Remove Warnings\n",
        "import warnings\n",
        "warnings.filterwarnings(action='ignore',)\n",
        "\n",
        "# Core:\n",
        "import numpy as np\n",
        "import pandas as pd\n",
        "import matplotlib.pyplot as plt\n",
        "\n",
        "# Machine Learning Algorithms:\n",
        "from sklearn.svm import SVC\n",
        "from sklearn.linear_model import LogisticRegression\n",
        "from sklearn.neighbors import KNeighborsClassifier # n = 5\n",
        "from sklearn.tree import DecisionTreeClassifier\n",
        "from sklearn.ensemble import (AdaBoostClassifier, RandomForestClassifier)\n",
        "from xgboost import XGBClassifier\n",
        "\n",
        "# Dataset Handle:\n",
        "from sklearn.model_selection import train_test_split, cross_val_score\n",
        "from sklearn.preprocessing import StandardScaler\n",
        "from sklearn.utils import shuffle\n",
        "\n",
        "# Performance:\n",
        "from sklearn.metrics import (confusion_matrix, accuracy_score, matthews_corrcoef, precision_score, classification_report)\n"
      ],
      "execution_count": 54,
      "outputs": []
    },
    {
      "cell_type": "code",
      "metadata": {
        "id": "wo0neYeyTpcj"
      },
      "source": [
        "# Dataset Link: https://raw.githubusercontent.com/oii-nasif/GlyStruct/master/Glycation.elm\n",
        "inputFile = '/content/drive/My Drive/Projects/Glycation/DataSet/Glycation.elm'"
      ],
      "execution_count": 55,
      "outputs": []
    },
    {
      "cell_type": "code",
      "metadata": {
        "id": "aq_HLG4TWbwg"
      },
      "source": [
        "file = open(file=inputFile, mode='r', encoding=\"utf-8\")\n",
        "\n",
        "Sequences = []\n",
        "for line in file.readlines():\n",
        "    Sequences.append(line.split()[4])\n",
        "\n",
        "Sequences = Sequences[1:]\n",
        "# Sequences"
      ],
      "execution_count": 56,
      "outputs": []
    },
    {
      "cell_type": "code",
      "metadata": {
        "id": "1A_lpOz5HTR7",
        "outputId": "6eaad154-54b1-4f43-da78-9666e5489510",
        "colab": {
          "base_uri": "https://localhost:8080/",
          "height": 35
        }
      },
      "source": [
        "len(Sequences)"
      ],
      "execution_count": 57,
      "outputs": [
        {
          "output_type": "execute_result",
          "data": {
            "text/plain": [
              "6591"
            ]
          },
          "metadata": {
            "tags": []
          },
          "execution_count": 57
        }
      ]
    },
    {
      "cell_type": "code",
      "metadata": {
        "id": "1MfeCCQeNomL"
      },
      "source": [
        "# def kmers(x, k):\n",
        "#     v = []\n",
        "#     for i in range(len(x) - k + 1):\n",
        "#         v.append(x[i:i + k])\n",
        "#     return v"
      ],
      "execution_count": 58,
      "outputs": []
    },
    {
      "cell_type": "code",
      "metadata": {
        "id": "YrP0jga9W0sL"
      },
      "source": [
        "import itertools\n",
        "import numpy as np\n",
        "\n",
        "def monoMonoGgap(x, g):  \n",
        "\n",
        "    t = []\n",
        "    m = list(itertools.product('ACDEFGHIKLMNPQRSTVWY', repeat=2))\n",
        "    for i in range(1, g + 1, 1):\n",
        "        V = kmers(x, i + 2)\n",
        "\n",
        "        for gGap in m:\n",
        "\n",
        "            C = 0\n",
        "            for v in V:\n",
        "                if v[0] == gGap[0] and v[-1] == gGap[1]:\n",
        "                    C += 1\n",
        "\n",
        "            t.append(C)\n",
        "    return t\n",
        "\n",
        "T = []\n",
        "for x in Sequences:\n",
        "    T.append(monoMonoGgap(x, 10))\n",
        "\n",
        "T = np.array(T)\n",
        "T"
      ],
      "execution_count": 59,
      "outputs": []
    },
    {
      "cell_type": "code",
      "metadata": {
        "id": "dy0FdJt0NxnU"
      },
      "source": [
        "\n",
        "# T.shape"
      ],
      "execution_count": 60,
      "outputs": []
    },
    {
      "cell_type": "code",
      "metadata": {
        "id": "-CGSK51TRl5P"
      },
      "source": [
        "# np.save(file = \"gapped10mer\", arr = T)"
      ],
      "execution_count": 61,
      "outputs": []
    },
    {
      "cell_type": "code",
      "metadata": {
        "id": "73Cm3CD9cnVf"
      },
      "source": [
        "X = np.load('/content/drive/My Drive/Projects/Glycation/DataSet/gapped10mer.npy')"
      ],
      "execution_count": 62,
      "outputs": []
    },
    {
      "cell_type": "code",
      "metadata": {
        "id": "oXTiU38k04Ut",
        "outputId": "ee8e6e0a-be72-4fb1-9e9a-d0a8f9b9445a",
        "colab": {
          "base_uri": "https://localhost:8080/",
          "height": 35
        }
      },
      "source": [
        "X.shape"
      ],
      "execution_count": 63,
      "outputs": [
        {
          "output_type": "execute_result",
          "data": {
            "text/plain": [
              "(6591, 4000)"
            ]
          },
          "metadata": {
            "tags": []
          },
          "execution_count": 63
        }
      ]
    },
    {
      "cell_type": "code",
      "metadata": {
        "id": "SVeYqHt6qkpU",
        "outputId": "d7a0f998-657f-4e6e-c445-4189e768d8c5",
        "colab": {
          "base_uri": "https://localhost:8080/",
          "height": 35
        }
      },
      "source": [
        "Y  = [1 for i in range(int(len(Sequences)*0.1301))]\n",
        "Y += [0 for i in range(int(len(Sequences)*0.87))]\n",
        "Y = np.array(Y)\n",
        "print(Y.shape)"
      ],
      "execution_count": 64,
      "outputs": [
        {
          "output_type": "stream",
          "text": [
            "(6591,)\n"
          ],
          "name": "stdout"
        }
      ]
    },
    {
      "cell_type": "code",
      "metadata": {
        "id": "pXAAszz71C2K",
        "outputId": "e3a6287d-7dce-4f8f-8d6d-89e420055d25",
        "colab": {
          "base_uri": "https://localhost:8080/",
          "height": 35
        }
      },
      "source": [
        "Y"
      ],
      "execution_count": 65,
      "outputs": [
        {
          "output_type": "execute_result",
          "data": {
            "text/plain": [
              "array([1, 1, 1, ..., 0, 0, 0])"
            ]
          },
          "metadata": {
            "tags": []
          },
          "execution_count": 65
        }
      ]
    },
    {
      "cell_type": "code",
      "metadata": {
        "id": "5G48al33uPzT",
        "outputId": "e4274504-fa35-42c7-fb3d-a3c393252671",
        "colab": {
          "base_uri": "https://localhost:8080/",
          "height": 53
        }
      },
      "source": [
        "X, Y = shuffle(X, Y, random_state=42)\n",
        "\n",
        "print(X.shape)\n",
        "print(Y.shape)"
      ],
      "execution_count": 66,
      "outputs": [
        {
          "output_type": "stream",
          "text": [
            "(6591, 4000)\n",
            "(6591,)\n"
          ],
          "name": "stdout"
        }
      ]
    },
    {
      "cell_type": "code",
      "metadata": {
        "id": "HgTj37-fuRtT"
      },
      "source": [
        "Xtrain, Xtest, Ytrain, Ytest = train_test_split(X, Y, test_size=0.30, random_state=101)"
      ],
      "execution_count": 67,
      "outputs": []
    },
    {
      "cell_type": "code",
      "metadata": {
        "id": "4I6JpvugvgGz",
        "outputId": "5e878d20-2e99-4ef5-c645-644f28299178",
        "colab": {
          "base_uri": "https://localhost:8080/",
          "height": 90
        }
      },
      "source": [
        "print(Xtrain.shape)\n",
        "print(Ytrain.shape)\n",
        "print(Xtest.shape)\n",
        "print(Ytest.shape)"
      ],
      "execution_count": 68,
      "outputs": [
        {
          "output_type": "stream",
          "text": [
            "(4613, 4000)\n",
            "(4613,)\n",
            "(1978, 4000)\n",
            "(1978,)\n"
          ],
          "name": "stdout"
        }
      ]
    },
    {
      "cell_type": "code",
      "metadata": {
        "id": "Feb5acDDviqS"
      },
      "source": [
        "scaler = StandardScaler()\n",
        "\n",
        "Xtrain = scaler.fit_transform(Xtrain)\n",
        "Xtest = scaler.transform(Xtest)"
      ],
      "execution_count": 69,
      "outputs": []
    },
    {
      "cell_type": "code",
      "metadata": {
        "id": "ooLd_Jfcvupw",
        "outputId": "99b8691c-5ddc-42e6-8e98-315b16cd28cb",
        "colab": {
          "base_uri": "https://localhost:8080/",
          "height": 145
        }
      },
      "source": [
        "model = XGBClassifier()\n",
        "model.fit(Xtrain, Ytrain)"
      ],
      "execution_count": 70,
      "outputs": [
        {
          "output_type": "execute_result",
          "data": {
            "text/plain": [
              "XGBClassifier(base_score=0.5, booster='gbtree', colsample_bylevel=1,\n",
              "              colsample_bynode=1, colsample_bytree=1, gamma=0,\n",
              "              learning_rate=0.1, max_delta_step=0, max_depth=3,\n",
              "              min_child_weight=1, missing=None, n_estimators=100, n_jobs=1,\n",
              "              nthread=None, objective='binary:logistic', random_state=0,\n",
              "              reg_alpha=0, reg_lambda=1, scale_pos_weight=1, seed=None,\n",
              "              silent=None, subsample=1, verbosity=1)"
            ]
          },
          "metadata": {
            "tags": []
          },
          "execution_count": 70
        }
      ]
    },
    {
      "cell_type": "code",
      "metadata": {
        "id": "QtM6y0Ekv4dF"
      },
      "source": [
        "importantFeatures = model.feature_importances_\n",
        "selectedFeatures = importantFeatures.argsort()[::-1][:int(len(importantFeatures)*0.4)]"
      ],
      "execution_count": 71,
      "outputs": []
    },
    {
      "cell_type": "code",
      "metadata": {
        "id": "QmtDvbtUwaPI",
        "outputId": "e4066e0e-f248-4e76-a113-4a11e87071be",
        "colab": {
          "base_uri": "https://localhost:8080/",
          "height": 35
        }
      },
      "source": [
        "len(selectedFeatures)"
      ],
      "execution_count": 72,
      "outputs": [
        {
          "output_type": "execute_result",
          "data": {
            "text/plain": [
              "1600"
            ]
          },
          "metadata": {
            "tags": []
          },
          "execution_count": 72
        }
      ]
    },
    {
      "cell_type": "code",
      "metadata": {
        "id": "cUX_UpCdwb8H"
      },
      "source": [
        "classifiers = [\n",
        "    LogisticRegression(),\n",
        "    KNeighborsClassifier(n_neighbors=5),\n",
        "    DecisionTreeClassifier(),\n",
        "    SVC(kernel='rbf', probability=True),\n",
        "    RandomForestClassifier(),\n",
        "    AdaBoostClassifier(),\n",
        "    XGBClassifier()\n",
        "]\n"
      ],
      "execution_count": 73,
      "outputs": []
    },
    {
      "cell_type": "code",
      "metadata": {
        "id": "dHblN7PRxsNs"
      },
      "source": [
        "# for classifier in classifiers:\n",
        "#     model = classifier\n",
        "#     model.fit(Xtrain[:, selectedFeatures], Ytrain)\n",
        "\n",
        "#     Yp = model.predict(Xtest[:, selectedFeatures])\n",
        "#     accuracy = accuracy_score(y_true=Ytest, y_pred=Yp)\n",
        "\n",
        "#     CM = confusion_matrix(y_pred=Yp, y_true=Ytest)\n",
        "#     TN, FP, FN, TP = CM.ravel()\n",
        "    \n",
        "#     Sensitivity = []\n",
        "#     Specificity = []\n",
        "#     Precision = []\n",
        "#     MCC = []\n",
        "\n",
        "#     MCC.append(matthews_corrcoef(y_true=Ytest, y_pred=Yp))\n",
        "#     Sensitivity.append( TP / (TP + FN) )\n",
        "#     Specificity.append( TN / (TN + FP) )\n",
        "#     Precision.append(precision_score(y_true=Ytest, y_pred=Yp))\n",
        "\n",
        "#     print('Classifier: {}'.format(classifier.__class__.__name__))\n",
        "#     print('Accuracy: {:0.2f}'.format(accuracy*100.0))   \n",
        "#     print('Sensitivity: {0:.4f}'.format(np.sum(Sensitivity)*100.0))\n",
        "#     print('Specificity: {0:.4f}'.format(np.sum(Specificity)*100.0))\n",
        "#     print('MCC: {0:.4f}'.format(np.sum(MCC)))\n",
        "#     print('Precision: {0:.4f}'.format(np.sum(Precision)*100.0))\n",
        "#     print('______________________________________________________________')"
      ],
      "execution_count": 74,
      "outputs": []
    },
    {
      "cell_type": "code",
      "metadata": {
        "id": "JB8RmovBz0-Q",
        "outputId": "1ec329d3-2d36-40d8-d6ee-70c854b9986e",
        "colab": {
          "base_uri": "https://localhost:8080/",
          "height": 913
        }
      },
      "source": [
        "for classifier in classifiers:\n",
        "    model = classifier\n",
        "    \n",
        "    accuracy = cross_val_score(model, X[:, selectedFeatures], Y, cv=10)\n",
        "    accuracy = np.mean(accuracy)\n",
        "    \n",
        "    print('Classifier: {}'.format(classifier.__class__.__name__))\n",
        "    print('Accuracy: {:0.2f}'.format(accuracy*100.0))\n",
        "    print('Sensitivity: {0:.4f}'.format(np.sum(Sensitivity)*100.0))\n",
        "    print('Specificity: {0:.4f}'.format(np.sum(Specificity)*100.0))\n",
        "    print('MCC: {0:.4f}'.format(np.sum(MCC)))\n",
        "    print('Precision: {0:.4f}'.format(np.sum(Precision)*100.0))\n",
        "    print('______________________________________________________________')   "
      ],
      "execution_count": 75,
      "outputs": [
        {
          "output_type": "stream",
          "text": [
            "Classifier: LogisticRegression\n",
            "Accuracy: 93.66\n",
            "Sensitivity: 46.0208\n",
            "Specificity: 100.0000\n",
            "MCC: 0.6491\n",
            "Precision: 100.0000\n",
            "______________________________________________________________\n",
            "Classifier: KNeighborsClassifier\n",
            "Accuracy: 91.26\n",
            "Sensitivity: 46.0208\n",
            "Specificity: 100.0000\n",
            "MCC: 0.6491\n",
            "Precision: 100.0000\n",
            "______________________________________________________________\n",
            "Classifier: DecisionTreeClassifier\n",
            "Accuracy: 93.35\n",
            "Sensitivity: 46.0208\n",
            "Specificity: 100.0000\n",
            "MCC: 0.6491\n",
            "Precision: 100.0000\n",
            "______________________________________________________________\n",
            "Classifier: SVC\n",
            "Accuracy: 89.05\n",
            "Sensitivity: 46.0208\n",
            "Specificity: 100.0000\n",
            "MCC: 0.6491\n",
            "Precision: 100.0000\n",
            "______________________________________________________________\n",
            "Classifier: RandomForestClassifier\n",
            "Accuracy: 96.60\n",
            "Sensitivity: 46.0208\n",
            "Specificity: 100.0000\n",
            "MCC: 0.6491\n",
            "Precision: 100.0000\n",
            "______________________________________________________________\n",
            "Classifier: AdaBoostClassifier\n",
            "Accuracy: 91.15\n",
            "Sensitivity: 46.0208\n",
            "Specificity: 100.0000\n",
            "MCC: 0.6491\n",
            "Precision: 100.0000\n",
            "______________________________________________________________\n",
            "Classifier: XGBClassifier\n",
            "Accuracy: 92.94\n",
            "Sensitivity: 46.0208\n",
            "Specificity: 100.0000\n",
            "MCC: 0.6491\n",
            "Precision: 100.0000\n",
            "______________________________________________________________\n"
          ],
          "name": "stdout"
        }
      ]
    },
    {
      "cell_type": "code",
      "metadata": {
        "id": "dZ50HC_M6LQK"
      },
      "source": [
        ""
      ],
      "execution_count": null,
      "outputs": []
    },
    {
      "cell_type": "code",
      "metadata": {
        "id": "FXhWzRMT55KH"
      },
      "source": [
        ""
      ],
      "execution_count": null,
      "outputs": []
    }
  ]
}