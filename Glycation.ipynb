{
  "nbformat": 4,
  "nbformat_minor": 0,
  "metadata": {
    "colab": {
      "name": "Glycation",
      "provenance": [],
      "collapsed_sections": [],
      "mount_file_id": "1YRZLP-si8w5kKbgx5q-WEBkfztDdJGaN",
      "authorship_tag": "ABX9TyNFpHG+w/+kU58DOYUI1d7R",
      "include_colab_link": true
    },
    "kernelspec": {
      "name": "python3",
      "display_name": "Python 3"
    },
    "accelerator": "GPU"
  },
  "cells": [
    {
      "cell_type": "markdown",
      "metadata": {
        "id": "view-in-github",
        "colab_type": "text"
      },
      "source": [
        "<a href=\"https://colab.research.google.com/github/oii-nasif/GlyStruct/blob/master/Glycation.ipynb\" target=\"_parent\"><img src=\"https://colab.research.google.com/assets/colab-badge.svg\" alt=\"Open In Colab\"/></a>"
      ]
    },
    {
      "cell_type": "code",
      "metadata": {
        "id": "bq8j7On9TkKr"
      },
      "source": [
        "# Remove Warnings\n",
        "import warnings\n",
        "warnings.filterwarnings(action='ignore',)\n",
        "\n",
        "# Core:\n",
        "import numpy as np\n",
        "import pandas as pd\n",
        "import matplotlib.pyplot as plt\n",
        "\n",
        "# Machine Learning Algorithms:\n",
        "from sklearn.svm import SVC\n",
        "from sklearn.linear_model import LogisticRegression\n",
        "from sklearn.neighbors import KNeighborsClassifier\n",
        "from sklearn.tree import DecisionTreeClassifier\n",
        "from sklearn.naive_bayes import GaussianNB\n",
        "from sklearn.ensemble import (AdaBoostClassifier, RandomForestClassifier)\n",
        "from xgboost import XGBClassifier\n",
        "\n",
        "# Dataset Handle:\n",
        "from sklearn.model_selection import train_test_split, cross_val_score\n",
        "from sklearn.preprocessing import StandardScaler\n",
        "from sklearn.utils import shuffle\n",
        "\n",
        "# Performance:\n",
        "from sklearn.metrics import (confusion_matrix, accuracy_score, matthews_corrcoef, precision_score, classification_report)\n",
        "\n",
        "from sklearn.metrics import confusion_matrix\n",
        "from sklearn.metrics import matthews_corrcoef\n",
        "from sklearn.metrics import precision_score"
      ],
      "execution_count": 30,
      "outputs": []
    },
    {
      "cell_type": "code",
      "metadata": {
        "id": "wo0neYeyTpcj"
      },
      "source": [
        "# Dataset Link: https://raw.githubusercontent.com/oii-nasif/GlyStruct/master/Glycation.elm\n",
        "inputFile = '/content/drive/My Drive/Projects/Glycation/DataSet/Glycation.elm'"
      ],
      "execution_count": 2,
      "outputs": []
    },
    {
      "cell_type": "code",
      "metadata": {
        "id": "aq_HLG4TWbwg"
      },
      "source": [
        "file = open(file=inputFile, mode='r', encoding=\"utf-8\")\n",
        "\n",
        "Sequences = []\n",
        "for line in file.readlines():\n",
        "    Sequences.append(line.split()[4])\n",
        "\n",
        "Sequences = Sequences[1:]\n",
        "# Sequences"
      ],
      "execution_count": 3,
      "outputs": []
    },
    {
      "cell_type": "code",
      "metadata": {
        "id": "1A_lpOz5HTR7",
        "outputId": "fc91f6c1-97f8-4a93-c5d8-12f81914bd7b",
        "colab": {
          "base_uri": "https://localhost:8080/",
          "height": 35
        }
      },
      "source": [
        "len(Sequences)"
      ],
      "execution_count": 4,
      "outputs": [
        {
          "output_type": "execute_result",
          "data": {
            "text/plain": [
              "6591"
            ]
          },
          "metadata": {
            "tags": []
          },
          "execution_count": 4
        }
      ]
    },
    {
      "cell_type": "code",
      "metadata": {
        "id": "PuhXzH0iWkcc"
      },
      "source": [
        "# X = []\n",
        "# for seq in Sequences:\n",
        "#     X.append([seq.count('A'), seq.count('C'), seq.count('D'), seq.count('E'), seq.count('F'), seq.count('G'), seq.count('H'), seq.count('I'), seq.count('K'), seq.count('L'), seq.count('M'), seq.count('N'), seq.count('P'), seq.count('Q'), seq.count('R'), seq.count('S'), seq.count('T'), seq.count('V'), seq.count('W'), seq.count('Y')])\n",
        "\n",
        "# X = np.array(X)"
      ],
      "execution_count": 5,
      "outputs": []
    },
    {
      "cell_type": "code",
      "metadata": {
        "id": "WkqvCDndWygx"
      },
      "source": [
        "# X.shape"
      ],
      "execution_count": 6,
      "outputs": []
    },
    {
      "cell_type": "code",
      "metadata": {
        "id": "1MfeCCQeNomL"
      },
      "source": [
        "# def kmers(x, k):\n",
        "#     v = []\n",
        "#     for i in range(len(x) - k + 1):\n",
        "#         v.append(x[i:i + k])\n",
        "#     return v"
      ],
      "execution_count": 7,
      "outputs": []
    },
    {
      "cell_type": "code",
      "metadata": {
        "id": "YrP0jga9W0sL"
      },
      "source": [
        "# import itertools\n",
        "# import numpy as np\n",
        "\n",
        "# def monoMonoGgap(x, g):  \n",
        "\n",
        "#     t = []\n",
        "#     m = list(itertools.product('ACDEFGHIKLMNPQRSTVWY', repeat=2))\n",
        "#     for i in range(1, g + 1, 1):\n",
        "#         V = kmers(x, i + 2)\n",
        "\n",
        "#         for gGap in m:\n",
        "\n",
        "#             C = 0\n",
        "#             for v in V:\n",
        "#                 if v[0] == gGap[0] and v[-1] == gGap[1]:\n",
        "#                     C += 1\n",
        "\n",
        "#             t.append(C)\n",
        "#     return t\n",
        "\n",
        "# T = []\n",
        "# for x in Sequences:\n",
        "#     T.append(monoMonoGgap(x, 10))\n",
        "\n",
        "# T = np.array(T)\n",
        "# T"
      ],
      "execution_count": 8,
      "outputs": []
    },
    {
      "cell_type": "code",
      "metadata": {
        "id": "dy0FdJt0NxnU"
      },
      "source": [
        "\n",
        "# T.shape"
      ],
      "execution_count": 9,
      "outputs": []
    },
    {
      "cell_type": "code",
      "metadata": {
        "id": "-CGSK51TRl5P"
      },
      "source": [
        "# np.save(file = \"gapped10mer\", arr = T)"
      ],
      "execution_count": 10,
      "outputs": []
    },
    {
      "cell_type": "code",
      "metadata": {
        "id": "73Cm3CD9cnVf"
      },
      "source": [
        "X = np.load('/content/drive/My Drive/Projects/Glycation/DataSet/gapped10mer.npy')"
      ],
      "execution_count": 11,
      "outputs": []
    },
    {
      "cell_type": "code",
      "metadata": {
        "id": "oXTiU38k04Ut",
        "outputId": "aca2fdee-d417-438e-acb7-08e9002a914e",
        "colab": {
          "base_uri": "https://localhost:8080/",
          "height": 35
        }
      },
      "source": [
        "X.shape"
      ],
      "execution_count": 12,
      "outputs": [
        {
          "output_type": "execute_result",
          "data": {
            "text/plain": [
              "(6591, 4000)"
            ]
          },
          "metadata": {
            "tags": []
          },
          "execution_count": 12
        }
      ]
    },
    {
      "cell_type": "code",
      "metadata": {
        "id": "SVeYqHt6qkpU",
        "outputId": "accad376-4705-4838-a719-08697b20e1b9",
        "colab": {
          "base_uri": "https://localhost:8080/",
          "height": 35
        }
      },
      "source": [
        "Y  = [1 for i in range(int(len(Sequences)*0.1301))]\n",
        "Y += [0 for i in range(int(len(Sequences)*0.87))]\n",
        "Y = np.array(Y)\n",
        "print(Y.shape)"
      ],
      "execution_count": 13,
      "outputs": [
        {
          "output_type": "stream",
          "text": [
            "(6591,)\n"
          ],
          "name": "stdout"
        }
      ]
    },
    {
      "cell_type": "code",
      "metadata": {
        "id": "pXAAszz71C2K",
        "outputId": "75ec7d9c-d1f1-43b0-bb0b-113957b931bd",
        "colab": {
          "base_uri": "https://localhost:8080/",
          "height": 35
        }
      },
      "source": [
        "Y"
      ],
      "execution_count": 14,
      "outputs": [
        {
          "output_type": "execute_result",
          "data": {
            "text/plain": [
              "array([1, 1, 1, ..., 0, 0, 0])"
            ]
          },
          "metadata": {
            "tags": []
          },
          "execution_count": 14
        }
      ]
    },
    {
      "cell_type": "code",
      "metadata": {
        "id": "5G48al33uPzT",
        "outputId": "5442fc3a-be83-4c7a-c3cc-ce33e472626c",
        "colab": {
          "base_uri": "https://localhost:8080/",
          "height": 53
        }
      },
      "source": [
        "X, Y = shuffle(X, Y, random_state=42)\n",
        "\n",
        "print(X.shape)\n",
        "print(Y.shape)"
      ],
      "execution_count": 15,
      "outputs": [
        {
          "output_type": "stream",
          "text": [
            "(6591, 4000)\n",
            "(6591,)\n"
          ],
          "name": "stdout"
        }
      ]
    },
    {
      "cell_type": "code",
      "metadata": {
        "id": "HgTj37-fuRtT"
      },
      "source": [
        "Xtrain, Xtest, Ytrain, Ytest = train_test_split(X, Y, test_size=0.30, random_state=101)"
      ],
      "execution_count": 16,
      "outputs": []
    },
    {
      "cell_type": "code",
      "metadata": {
        "id": "4I6JpvugvgGz",
        "outputId": "704da00b-0278-4960-eba2-dba66d911f9e",
        "colab": {
          "base_uri": "https://localhost:8080/",
          "height": 90
        }
      },
      "source": [
        "print(Xtrain.shape)\n",
        "print(Ytrain.shape)\n",
        "print(Xtest.shape)\n",
        "print(Ytest.shape)"
      ],
      "execution_count": 17,
      "outputs": [
        {
          "output_type": "stream",
          "text": [
            "(4613, 4000)\n",
            "(4613,)\n",
            "(1978, 4000)\n",
            "(1978,)\n"
          ],
          "name": "stdout"
        }
      ]
    },
    {
      "cell_type": "code",
      "metadata": {
        "id": "Feb5acDDviqS"
      },
      "source": [
        "scaler = StandardScaler()\n",
        "\n",
        "Xtrain = scaler.fit_transform(Xtrain)\n",
        "Xtest = scaler.transform(Xtest)"
      ],
      "execution_count": 18,
      "outputs": []
    },
    {
      "cell_type": "code",
      "metadata": {
        "id": "ooLd_Jfcvupw",
        "outputId": "36e81135-df53-476c-da87-7e384a463217",
        "colab": {
          "base_uri": "https://localhost:8080/",
          "height": 145
        }
      },
      "source": [
        "model = XGBClassifier()\n",
        "model.fit(Xtrain, Ytrain)"
      ],
      "execution_count": 20,
      "outputs": [
        {
          "output_type": "execute_result",
          "data": {
            "text/plain": [
              "XGBClassifier(base_score=0.5, booster='gbtree', colsample_bylevel=1,\n",
              "              colsample_bynode=1, colsample_bytree=1, gamma=0,\n",
              "              learning_rate=0.1, max_delta_step=0, max_depth=3,\n",
              "              min_child_weight=1, missing=None, n_estimators=100, n_jobs=1,\n",
              "              nthread=None, objective='binary:logistic', random_state=0,\n",
              "              reg_alpha=0, reg_lambda=1, scale_pos_weight=1, seed=None,\n",
              "              silent=None, subsample=1, verbosity=1)"
            ]
          },
          "metadata": {
            "tags": []
          },
          "execution_count": 20
        }
      ]
    },
    {
      "cell_type": "code",
      "metadata": {
        "id": "QtM6y0Ekv4dF"
      },
      "source": [
        "importantFeatures = model.feature_importances_\n",
        "selectedFeatures = importantFeatures.argsort()[::-1][:int(len(importantFeatures)*0.4)]"
      ],
      "execution_count": 21,
      "outputs": []
    },
    {
      "cell_type": "code",
      "metadata": {
        "id": "QmtDvbtUwaPI",
        "outputId": "6b63bc99-a60e-49d5-f7be-f27fe0cce979",
        "colab": {
          "base_uri": "https://localhost:8080/",
          "height": 35
        }
      },
      "source": [
        "selectedFeatures"
      ],
      "execution_count": 22,
      "outputs": [
        {
          "output_type": "execute_result",
          "data": {
            "text/plain": [
              "array([2252, 3982, 2216, ...,  155,  153,  152])"
            ]
          },
          "metadata": {
            "tags": []
          },
          "execution_count": 22
        }
      ]
    },
    {
      "cell_type": "code",
      "metadata": {
        "id": "cUX_UpCdwb8H"
      },
      "source": [
        "classifiers = [\n",
        "    LogisticRegression(),\n",
        "    KNeighborsClassifier(n_neighbors=5),\n",
        "    DecisionTreeClassifier(),\n",
        "    SVC(kernel='rbf', probability=True),\n",
        "    RandomForestClassifier(),\n",
        "    AdaBoostClassifier(),\n",
        "    XGBClassifier()\n",
        "]\n"
      ],
      "execution_count": 42,
      "outputs": []
    },
    {
      "cell_type": "code",
      "metadata": {
        "id": "dHblN7PRxsNs",
        "outputId": "441872c2-550a-4572-a472-484b2e53905a",
        "colab": {
          "base_uri": "https://localhost:8080/",
          "height": 913
        }
      },
      "source": [
        "for classifier in classifiers:\n",
        "    model = classifier\n",
        "    model.fit(Xtrain[:, selectedFeatures], Ytrain)\n",
        "\n",
        "    Yp = model.predict(Xtest[:, selectedFeatures])\n",
        "    accuracy = accuracy_score(y_true=Ytest, y_pred=Yp)\n",
        "\n",
        "    CM = confusion_matrix(y_pred=Yp, y_true=Ytest)\n",
        "    TN, FP, FN, TP = CM.ravel()\n",
        "    \n",
        "    Sensitivity = []\n",
        "    Specificity = []\n",
        "    Precision = []\n",
        "    MCC = []\n",
        "\n",
        "    MCC.append(matthews_corrcoef(y_true=Ytest, y_pred=Yp))\n",
        "    Sensitivity.append( TP / (TP + FN) )\n",
        "    Specificity.append( TN / (TN + FP) )\n",
        "    Precision.append(precision_score(y_true=Ytest, y_pred=Yp))\n",
        "\n",
        "    print('Classifier: {}'.format(classifier.__class__.__name__))\n",
        "    print('Accuracy: {:0.2f}'.format(accuracy*100.0))   \n",
        "    print('Sensitivity: {0:.4f}'.format(np.sum(Sensitivity)*100.0))\n",
        "    print('Specificity: {0:.4f}'.format(np.sum(Specificity)*100.0))\n",
        "    print('MCC: {0:.4f}'.format(np.sum(MCC)))\n",
        "    print('Precision: {0:.4f}'.format(np.sum(Precision)*100.0))\n",
        "    print('______________________________________________________________')"
      ],
      "execution_count": 43,
      "outputs": [
        {
          "output_type": "stream",
          "text": [
            "Classifier: LogisticRegression\n",
            "Accuracy: 92.52\n",
            "Sensitivity: 71.2803\n",
            "Specificity: 96.1516\n",
            "MCC: 0.6927\n",
            "Precision: 76.0148\n",
            "______________________________________________________________\n",
            "Classifier: KNeighborsClassifier\n",
            "Accuracy: 90.14\n",
            "Sensitivity: 46.3668\n",
            "Specificity: 97.6317\n",
            "MCC: 0.5487\n",
            "Precision: 77.0115\n",
            "______________________________________________________________\n",
            "Classifier: DecisionTreeClassifier\n",
            "Accuracy: 91.66\n",
            "Sensitivity: 74.3945\n",
            "Specificity: 94.6122\n",
            "MCC: 0.6740\n",
            "Precision: 70.2614\n",
            "______________________________________________________________\n",
            "Classifier: SVC\n",
            "Accuracy: 90.04\n",
            "Sensitivity: 31.8339\n",
            "Specificity: 100.0000\n",
            "MCC: 0.5339\n",
            "Precision: 100.0000\n",
            "______________________________________________________________\n",
            "Classifier: RandomForestClassifier\n",
            "Accuracy: 95.75\n",
            "Sensitivity: 71.2803\n",
            "Specificity: 99.9408\n",
            "MCC: 0.8218\n",
            "Precision: 99.5169\n",
            "______________________________________________________________\n",
            "Classifier: AdaBoostClassifier\n",
            "Accuracy: 89.89\n",
            "Sensitivity: 41.1765\n",
            "Specificity: 98.2238\n",
            "MCC: 0.5273\n",
            "Precision: 79.8658\n",
            "______________________________________________________________\n",
            "Classifier: XGBClassifier\n",
            "Accuracy: 92.11\n",
            "Sensitivity: 46.0208\n",
            "Specificity: 100.0000\n",
            "MCC: 0.6491\n",
            "Precision: 100.0000\n",
            "______________________________________________________________\n"
          ],
          "name": "stdout"
        }
      ]
    },
    {
      "cell_type": "code",
      "metadata": {
        "id": "JB8RmovBz0-Q",
        "outputId": "c88ad9c1-9887-4813-932b-8c0e36160101",
        "colab": {
          "base_uri": "https://localhost:8080/",
          "height": 145
        }
      },
      "source": [
        "for classifier in classifiers:\n",
        "    model = classifier\n",
        "    \n",
        "    accuracy = cross_val_score(model, X[:, selectedFeatures], Y, cv=10)\n",
        "    accuracy = np.mean(accuracy)\n",
        "    \n",
        "    print('Classifier: {}'.format(classifier.__class__.__name__))\n",
        "    print('Accuracy: {:0.2f}'.format(accuracy*100.0))\n",
        "    print('Sensitivity: {0:.4f}'.format(np.sum(Sensitivity)*100.0))\n",
        "    print('Specificity: {0:.4f}'.format(np.sum(Specificity)*100.0))\n",
        "    print('MCC: {0:.4f}'.format(np.sum(MCC)))\n",
        "    print('Precision: {0:.4f}'.format(np.sum(Precision)*100.0))\n",
        "    print('______________________________________________________________')   "
      ],
      "execution_count": 31,
      "outputs": [
        {
          "output_type": "stream",
          "text": [
            "Classifier: LogisticRegression, Accuracy: 0.94\n",
            "Classifier: KNeighborsClassifier, Accuracy: 0.91\n",
            "Classifier: DecisionTreeClassifier, Accuracy: 0.94\n",
            "Classifier: SVC, Accuracy: 0.89\n",
            "Classifier: RandomForestClassifier, Accuracy: 0.97\n",
            "Classifier: AdaBoostClassifier, Accuracy: 0.91\n",
            "Classifier: XGBClassifier, Accuracy: 0.93\n"
          ],
          "name": "stdout"
        }
      ]
    },
    {
      "cell_type": "code",
      "metadata": {
        "id": "dZ50HC_M6LQK"
      },
      "source": [
        ""
      ],
      "execution_count": null,
      "outputs": []
    },
    {
      "cell_type": "code",
      "metadata": {
        "id": "FXhWzRMT55KH"
      },
      "source": [
        ""
      ],
      "execution_count": null,
      "outputs": []
    }
  ]
}